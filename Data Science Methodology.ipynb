{
 "cells": [
  {
   "cell_type": "raw",
   "id": "75356575",
   "metadata": {},
   "source": [
    "Despite of increasing computer power and access data over last couple of decades , availability of data within decision making \n",
    "process is either lost or not maximize as all too often, we dont have solid under standing of questions being asked \n",
    "and how to apply data correctly to problem \n",
    "methodology means method of system that use in perticular area of study or activity\n",
    "--> methodology is important to consideration because all too often try to bypass and jump directly to solution \n",
    "--> doing so(aam karvathi), hinders(avrodh) our best intension in trying to solve problem \n",
    "\n",
    "--> with use of methodology ensures that data we use to solve problem is relavent and properly manupulated to address the question "
   ]
  },
  {
   "cell_type": "raw",
   "id": "079267d1",
   "metadata": {},
   "source": [
    "Data Science methodology aim to answer 10 basic questions \n",
    "\n",
    "from problem to approach\n",
    "1--> what is problem you are trying to solve \n",
    "2--> how can you use data to answer the questions\n",
    "\n",
    "Working with data \n",
    "3--> what data do you need to answer the question\n",
    "4--> where is data comming from and how will you get it \n",
    "5--> is data you have collected representative of problem to be solved\n",
    "6--> what additional work is required to manupulate and work with data \n",
    "\n",
    "Deriving Answer\n",
    "7--> in what way can data is visualize to get the answer of question that is required\n",
    "8-->Does model is used really answers the questions or does it need to be  adjusted\n",
    "9-->can you put the model in practice \n",
    "10--> can you get constructive feedback into answering the questions\n",
    "\n",
    "\n",
    "-->first two questions regarding to defining the issue and determine  the approach tobe used\n",
    "-->second four question regarding get organized data you will need and \n",
    "-->final fourquestion regarding to validate both data and approach to have selected to solve the problem "
   ]
  },
  {
   "cell_type": "raw",
   "id": "9e557769",
   "metadata": {},
   "source": [
    "\n",
    "in data mining, the Cross Industry Process for Data Mining (CRISP-DM) methodology is widely used.\n",
    "\n",
    "What is CRISP_DM --> it is process aim is to use data mining over wide variety of business application \n",
    "\n",
    "--> it comprises six steps to that has to implement to get reasonable success \n",
    "\n",
    "six steps :\n",
    "    \n",
    "1--> Business Understanding :- it is very important step where intension of project is outline.\n",
    "Foundational Methodology and CRISP-DM are aligned here. It requires communication and clarity. \n",
    "The difficulty here is that stakeholders have  different objectives,biases(pakshpat), and modalities(way:- padhdhati) of relating information. \n",
    "They don’t all see the same things or in the same manner. \n",
    "Without clear, concise(brief), and complete perspective(view) of what the project goals are resources will be needlessly expended\n",
    "\n",
    "2--> Data Understanding : \n",
    "Data understanding relies on business understanding. \n",
    "Data is collected at this stage of the process. \n",
    "The understanding of what the business wants and needs will determine what data is collected, from what sources, and by what methods.\n",
    "CRISP-DM combines the stages of Data Requirements, Data Collection, and Data Understanding from the Foundational Methodology outline.\n",
    "\n",
    "3-->Data Preparation :\n",
    "Once the data has been collected, it must be transformed into a useable subset unless it is determined that more data is needed. Once a dataset is chosen, it must then be checked for questionable, missing, or ambiguous cases. Data Preparation is common to CRISP-DM and Foundational Methodology\n",
    "\n",
    "4--> Modeling \n",
    "\n",
    "Once prepared for use, the data must be expressed through whatever appropriate models, give meaningful insights, and hopefully new knowledge. This is the purpose of data mining: to create knowledge information that has meaning and utility. The use of models reveals patterns and structures within the data that provide insight into the features of interest.\n",
    "\n",
    "5--> Evaluation \n",
    "In evaluation phase, selected model must be tested. new dataset will test on trained model to see effectiveness of model \n",
    "Based on result we can deside to deploy or reject model \n",
    "\n",
    "6 --> Deployment \n",
    "in this stage , new data is applied to model by stakeholders or from the client side. The new interaction might reveal the new \n",
    "variable and need of dataset and model. these new challanges could initiate revision of either business\n",
    "need and action or model and data both.\n",
    "\n",
    "--> Flexibility is required at each step along with communication to keep the project on track. \n",
    "-->  At any of the six stages, it may be necessary to revisit an earlier stage and make changes.\n",
    "-->  The key point of this process is that it’s cyclical; therefore, even at the finish you are having another business understanding encounter to discuss the viability after deployment. The journey continues.\n",
    "    \n",
    "\n"
   ]
  },
  {
   "cell_type": "code",
   "execution_count": null,
   "id": "0d40101d",
   "metadata": {},
   "outputs": [],
   "source": []
  }
 ],
 "metadata": {
  "kernelspec": {
   "display_name": "Python 3 (ipykernel)",
   "language": "python",
   "name": "python3"
  },
  "language_info": {
   "codemirror_mode": {
    "name": "ipython",
    "version": 3
   },
   "file_extension": ".py",
   "mimetype": "text/x-python",
   "name": "python",
   "nbconvert_exporter": "python",
   "pygments_lexer": "ipython3",
   "version": "3.9.7"
  }
 },
 "nbformat": 4,
 "nbformat_minor": 5
}
