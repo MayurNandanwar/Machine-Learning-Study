{
 "cells": [
  {
   "cell_type": "code",
   "execution_count": null,
   "id": "e68a0b13",
   "metadata": {},
   "outputs": [],
   "source": [
    "-> used when we have categorical feature with target binary or multiclass classification\n",
    "\n",
    "two main use of chi-square test\n",
    "1- hypotesys testing :- feature distribution follows hypothesis test \n",
    "2- compare independence of feature : test two variable associate with each other \n",
    "                                    means ex. gender associate with survival of titanic dataset \n",
    "        \n"
   ]
  }
 ],
 "metadata": {
  "kernelspec": {
   "display_name": "Python 3 (ipykernel)",
   "language": "python",
   "name": "python3"
  },
  "language_info": {
   "codemirror_mode": {
    "name": "ipython",
    "version": 3
   },
   "file_extension": ".py",
   "mimetype": "text/x-python",
   "name": "python",
   "nbconvert_exporter": "python",
   "pygments_lexer": "ipython3",
   "version": "3.10.9"
  }
 },
 "nbformat": 4,
 "nbformat_minor": 5
}
