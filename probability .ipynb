{
 "cells": [
  {
   "cell_type": "code",
   "execution_count": null,
   "id": "038ff979",
   "metadata": {},
   "outputs": [],
   "source": [
    "probability :- numerical value of uncertainity called probability \n",
    "                ex. there is 80 % chances that india will win here uncertainity of numerical value is shown \n",
    "\n",
    "random experiment :- you know about experiments result but dont know about what result will come when you perform \n",
    "                     that is called random experiment \n",
    "                    --> result comes from experiment is called event \n",
    "\n",
    "exhaustic cases or sample space = set of possible no of outcome from experiment or possible event is called sample space \n",
    "                ex. when we toss then possible event is head, tail\n",
    "                ex. roll a dise --> 1,2,3,4,5,6 is samplespace \n",
    "        \n",
    "mutualy excusive event : one event exist at time ex.writting exam with talking with friend on mobile \n",
    "\n",
    "independent event :- when you toss a coin two time output will not affect to each other.\n",
    "    \n",
    "equalylikely evnt :- chance of getting outcome equal like ex. toss coin chance of comeing head of tail equal.\n",
    "    \n",
    "\n",
    "Definition of probabilty :- \n",
    "    \n",
    "    1 --> classical or a priority probability : derived by bernouly \n",
    "                                          : no of favourable cases /(total no of eqaullikely,\n",
    "                                                                        mutually exclusive and exhaustive cases)\n",
    "            EX. probability to come head when toss :1/2\n",
    "                probabilty to come 1 when roll dice : 1/6\n",
    "                    \n",
    "          why called a priority because withou performing experiment you know possible probability \n",
    "        \n",
    "    2\n",
    "                    \n",
    "    \n",
    "                                            \n",
    "\n",
    "        \n",
    "\n",
    "        "
   ]
  }
 ],
 "metadata": {
  "kernelspec": {
   "display_name": "Python 3 (ipykernel)",
   "language": "python",
   "name": "python3"
  },
  "language_info": {
   "codemirror_mode": {
    "name": "ipython",
    "version": 3
   },
   "file_extension": ".py",
   "mimetype": "text/x-python",
   "name": "python",
   "nbconvert_exporter": "python",
   "pygments_lexer": "ipython3",
   "version": "3.10.9"
  }
 },
 "nbformat": 4,
 "nbformat_minor": 5
}
