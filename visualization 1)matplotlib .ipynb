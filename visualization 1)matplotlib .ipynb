{
 "cells": [
  {
   "cell_type": "markdown",
   "id": "46feeb82",
   "metadata": {},
   "source": [
    "Line plot : defination :-  series of data points called markers connected by straight line called.\n",
    "            --line plot is used to plot series of data with respect to time example like what is growth of single stock price\n",
    "            with respect to time like day , hr ,min wise , trend data over period of time \n",
    "            -- similar to scatter plot \n",
    "            \n",
    "Area plot : this plot is based on line plot.\n",
    "            area between axis and line is emphesize by color\n",
    "            compare two or more quantity togather so that by using this plot we can make comparision based on that area\n",
    "\n",
    "hist plot :- it is frequency distribution plot. by this plot we can find out total frequency of data belongs to specific range \n",
    "            -- this divides whole data in to series of interval.\n",
    "            -- hist plot divide total data of column into 10 bin (range) we can add size of bin \n",
    "            \n",
    "bar plot :- graph represent categorical data with rectengular bar with hight and width prapotional to values \n",
    "            -- helps to do comparision amongs descrete values \n",
    "            -- two type we can plot horizontal or vertical\n",
    "\n",
    "box plot :- it is statistical representation of data by using that we can find out minimum value from perticulat data column\n",
    "            -- we can get midian , 25 percentile , 75 percentile , Inter quantile range , max value and alfo outlire \n",
    "            --> how can we consider that this data point is out lire ?--> data above max value and min value in box plot \n",
    "                we can say because we find out max = 75 percentile + 1.5 IQR , min = 25 percentile - 1.5 IQR \n",
    "                so any point not fall within this max and min that is outlire.\n",
    "            "
   ]
  }
 ],
 "metadata": {
  "kernelspec": {
   "display_name": "Python 3 (ipykernel)",
   "language": "python",
   "name": "python3"
  },
  "language_info": {
   "codemirror_mode": {
    "name": "ipython",
    "version": 3
   },
   "file_extension": ".py",
   "mimetype": "text/x-python",
   "name": "python",
   "nbconvert_exporter": "python",
   "pygments_lexer": "ipython3",
   "version": "3.9.7"
  }
 },
 "nbformat": 4,
 "nbformat_minor": 5
}
